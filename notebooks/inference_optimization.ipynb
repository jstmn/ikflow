{
 "cells": [
  {
   "cell_type": "markdown",
   "id": "d619eab0",
   "metadata": {},
   "source": [
    "# Overview\n",
    "\n",
    "This notebook analyzes the use of levenberg-marquardt for IK refinement"
   ]
  },
  {
   "cell_type": "code",
   "execution_count": null,
   "id": "f124121e",
   "metadata": {},
   "outputs": [],
   "source": [
    "%load_ext autoreload\n",
    "%autoreload 2\n",
    "\n",
    "from IPython.display import display, HTML\n",
    "display(HTML(\"<style>.container { width:100% !important; }</style>\"))"
   ]
  },
  {
   "cell_type": "code",
   "execution_count": null,
   "id": "c10b367e",
   "metadata": {},
   "outputs": [],
   "source": [
    "from time import time \n",
    "\n",
    "import torch\n",
    "import numpy as np\n",
    "from jrl.utils import set_seed, make_text_green_or_red, evenly_spaced_colors\n",
    "from jrl.math_utils import geodesic_distance_between_quaternions\n",
    "import matplotlib.pyplot as plt\n",
    "\n",
    "from ikflow.model_loading import get_ik_solver\n",
    "\n",
    "torch.set_printoptions(linewidth=300, precision=6, sci_mode=False)"
   ]
  },
  {
   "cell_type": "code",
   "execution_count": null,
   "id": "f7298640",
   "metadata": {},
   "outputs": [],
   "source": [
    "MODEL_NAME = \"panda__full__lp191_5.25m\"\n",
    "compile_1_cfg = {\"fullgraph\": False, \"mode\": \"default\", \"backend\": \"inductor\"}\n",
    "compile_2_cfg = {\"fullgraph\": True, \"mode\": \"default\" , \"backend\": \"inductor\"}\n",
    "compile_3_cfg = {\"fullgraph\": False, \"mode\": \"default\" , \"backend\": \"inductor\", \"dynamic\": True}\n",
    "\n",
    "\n",
    "# === Errors\n",
    "# {\"fullgraph\": True, \"mode\": \"default\" , \"backend\": \"cudagraphs\"}\n",
    "# ^ doesn't work (RuntimeError: Node '5bec40': [(7,)] -> GLOWCouplingBlock -> [(7,)] encountered an error.)\n",
    "# {\"fullgraph\": True, \"mode\": \"max-autotune\" , \"backend\": \"inductor\"}\n",
    "# ^ doesn't work (RuntimeError: Node '5bec40': [(7,)] -> GLOWCouplingBlock -> [(7,)] encountered an error.)\n",
    "# {\"fullgraph\": False, \"mode\": \"max-autotune\" , \"backend\": \"inductor\"}\n",
    "# ^ really slow\n",
    "# {\"fullgraph\": False, \"mode\": \"default\" , \"backend\": \"onnxrt\", \"dynamic\": True}\n",
    "# ^ onyx unavailable\n",
    "# {\"fullgraph\": True, \"mode\": \"reduce-overhead\" , \"backend\": \"inductor\", \"dynamic\": True}\n",
    "# ^ really slow\n",
    "\n",
    "# >>> torch._dynamo.list_backends()\n",
    "# ['cudagraphs', 'inductor', 'onnxrt', 'openxla', 'openxla_eval', 'tvm']\n",
    "\n",
    "solver, _ = get_ik_solver(MODEL_NAME, compile_model=None)\n",
    "robot = solver.robot\n",
    "solver_compiled_1, _  = get_ik_solver(MODEL_NAME, compile_model=compile_1_cfg)\n",
    "solver_compiled_2, _  = get_ik_solver(MODEL_NAME, compile_model=compile_2_cfg)\n",
    "solver_compiled_3, _  = get_ik_solver(MODEL_NAME, compile_model=compile_3_cfg)"
   ]
  },
  {
   "cell_type": "code",
   "execution_count": null,
   "id": "7abae5a8",
   "metadata": {},
   "outputs": [],
   "source": [
    "batch_sizes = [10, 100, 500, 1000, 2500, 5000, 7500, 10000]\n",
    "k_retry = 10\n",
    "\n",
    "curves = []\n",
    "labels = []\n",
    "device = \"cuda:0\"\n",
    "\n",
    "\n",
    "def eval_runtime(solver):\n",
    "\n",
    "    runtimes = []\n",
    "    runtime_stds = []\n",
    "\n",
    "    for batch_size in batch_sizes:\n",
    "        sub_runtimes = []\n",
    "        for _ in range(k_retry):\n",
    "            _, target_poses = robot.sample_joint_angles_and_poses(batch_size, only_non_self_colliding=False)\n",
    "            target_poses = torch.tensor(target_poses, device=device, dtype=torch.float32)\n",
    "            t0 = time()\n",
    "            solver.generate_ik_solutions(target_poses)\n",
    "            sub_runtimes.append(time() - t0)\n",
    "        runtimes.append(np.mean(sub_runtimes))\n",
    "        runtime_stds.append(np.std(sub_runtimes))\n",
    "        print(f\"batch_size: {batch_size},\\tmean runtime: {runtimes[-1]:.5f} s,\\tsub_runtimes: {sub_runtimes}\")\n",
    "    return np.array(runtimes), np.array(runtime_stds)\n",
    "\n",
    "base_runtimes, base_runtime_stds = eval_runtime(solver)\n",
    "compiled_1_runtimes, compiled_1_runtime_stds = eval_runtime(solver_compiled_1)\n",
    "compiled_2_runtimes, compiled_2_runtime_stds = eval_runtime(solver_compiled_2)\n",
    "compiled_3_runtimes, compiled_3_runtime_stds = eval_runtime(solver_compiled_3)"
   ]
  },
  {
   "cell_type": "code",
   "execution_count": null,
   "id": "d61c36b5",
   "metadata": {},
   "outputs": [],
   "source": [
    "def plot_runtime_curve(multi_runtimes_means, multi_runtimes_stds, labels):\n",
    "    fig, ax = plt.subplots(1, 1, figsize=(10, 10))\n",
    "    ax.set_title(f\"Batch size vs. Inference time for default vs. compiled nn.Module\")\n",
    "    ax.grid(alpha=0.2)\n",
    "    ax.set_xlabel(\"Batch size\")\n",
    "    ax.set_ylabel(\"Inference time [s]\")\n",
    "\n",
    "    colors = evenly_spaced_colors(int(len(multi_runtimes_means)))\n",
    "\n",
    "    for (runtimes, runtime_stds, label, color) in zip(multi_runtimes_means, multi_runtimes_stds, labels, colors):\n",
    "        ax.plot(batch_sizes, runtimes, label=label, color=color)\n",
    "        ax.fill_between(batch_sizes, runtimes - runtime_stds, runtimes + runtime_stds, alpha=0.15, color=color)\n",
    "        ax.scatter(batch_sizes, runtimes, s=15, color=color)\n",
    "\n",
    "    ax.legend()\n",
    "    plt.show()\n",
    "\n",
    "plot_runtime_curve(\n",
    "    [base_runtimes, compiled_1_runtimes, compiled_2_runtimes, compiled_3_runtimes],\n",
    "    [base_runtime_stds, compiled_1_runtime_stds, compiled_2_runtime_stds, compiled_3_runtime_stds], \n",
    "    [\"un-compiled\", f\"compiled_1: {compile_1_cfg}\", f\"compiled_2: {compile_2_cfg}\", f\"compiled_3: {compile_3_cfg}\"]\n",
    ")\n"
   ]
  }
 ],
 "metadata": {
  "kernelspec": {
   "display_name": "ikflow-FSwUzYdQ-py3.8",
   "language": "python",
   "name": "python3"
  },
  "language_info": {
   "codemirror_mode": {
    "name": "ipython",
    "version": 3
   },
   "file_extension": ".py",
   "mimetype": "text/x-python",
   "name": "python",
   "nbconvert_exporter": "python",
   "pygments_lexer": "ipython3",
   "version": "3.8.10"
  }
 },
 "nbformat": 4,
 "nbformat_minor": 5
}
