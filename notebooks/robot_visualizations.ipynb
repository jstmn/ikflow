{
 "cells": [
  {
   "cell_type": "markdown",
   "id": "d619eab0",
   "metadata": {},
   "source": [
    "# Overview\n",
    "This notebook illustrates the impact of the latent noise distribution on the resulting error statistics of generated samples"
   ]
  },
  {
   "cell_type": "code",
   "execution_count": null,
   "id": "f124121e",
   "metadata": {},
   "outputs": [],
   "source": [
    "%load_ext autoreload\n",
    "%autoreload 2\n",
    "%load_ext wurlitzer\n",
    "#^^^ the wurlitzer extension is used to capture C/C++ output to be displayed in the notebook\n",
    "#^^^ this is very useful for debugging, but it doesn't work on windows\n",
    "import os\n",
    "os.chdir(\"../\")"
   ]
  },
  {
   "cell_type": "code",
   "execution_count": null,
   "id": "c10b367e",
   "metadata": {},
   "outputs": [],
   "source": [
    "import numpy as np\n",
    "from klampt.model import coordinates, trajectory\n",
    "from klampt import *\n",
    "from klampt.math import so3, se3\n",
    "from klampt import vis\n",
    "\n",
    "from ikflow.model_loading import get_ik_solver"
   ]
  },
  {
   "cell_type": "code",
   "execution_count": null,
   "id": "18599224",
   "metadata": {},
   "outputs": [],
   "source": [
    "# PANDA\n",
    "model_name=\"panda__full__lp191_5.25m\"\n",
    "ik_solver, _ = get_ik_solver(model_name)\n",
    "urdf_filepath = ik_solver.robot.urdf_filepath\n",
    "R = so3.from_rpy([0, np.pi/2, 0])\n",
    "target_T_iktarget = (R, [-0.1, 0, 0])"
   ]
  },
  {
   "cell_type": "markdown",
   "id": "c67d761a",
   "metadata": {},
   "source": [
    "# Visualizing\n",
    "\n",
    "Per ieee: \"One column width: 3.5 inches, 88.9 millimeters, or 21 picas \"\n",
    "\n",
    "Note: Don't change the color here. The standalone gui has a tool to change the appearance properties of objects in the world\n",
    "\n",
    "When positioning the camera, try to fill the frame almost entirely with the robot."
   ]
  },
  {
   "cell_type": "code",
   "execution_count": null,
   "id": "e1d923f0",
   "metadata": {},
   "outputs": [],
   "source": [
    "SHOW_MUG = True\n",
    "SOL_MODE = \"IKFLOW\"\n",
    "N_SOLUTIONS = 10"
   ]
  },
  {
   "cell_type": "code",
   "execution_count": null,
   "id": "a8d966ef",
   "metadata": {},
   "outputs": [],
   "source": [
    "world = ik_solver.robot._klampt_world_model\n",
    "if SHOW_MUG:\n",
    "    assert world.loadRigidObject(\"ikflow/visualization_resources/klampt_resources/objects/mug_klampt.obj\")\n",
    "    mug = world.rigidObject(0)\n",
    "    vis.setColor(vis.getItemName(mug), 0.5, 0.5, 1.0, a=1.0)\n",
    "robot = world.robot(0)"
   ]
  },
  {
   "cell_type": "code",
   "execution_count": null,
   "id": "41b13968",
   "metadata": {},
   "outputs": [],
   "source": [
    "# Open viz in pop up window.\n",
    "vis.kill()\n",
    "vis.init([\"PyQt\"])\n",
    "vis.add(\"world\", world)\n",
    "vis.add(\"coordinates\", coordinates.manager())\n",
    "background_color = (1, 1, 1, 0.7)\n",
    "vis.setBackgroundColor(background_color[0], background_color[1], background_color[2], background_color[3])\n",
    "size = 5\n",
    "for x0 in range(-size, size + 1):\n",
    "    for y0 in range(-size, size + 1):\n",
    "        vis.add(\n",
    "            f\"floor_{x0}_{y0}\",\n",
    "            trajectory.Trajectory([1, 0], [(-size, y0, 0), (size, y0, 0)]),\n",
    "            color=(0.75, 0.75, 0.75, 1.0),\n",
    "            width=2.0,\n",
    "            hide_label=True,\n",
    "            pointSize=0,\n",
    "        )\n",
    "        vis.add(\n",
    "            f\"floor_{x0}_{y0}2\",\n",
    "            trajectory.Trajectory([1, 0], [(x0, -size, 0), (x0, size, 0)]),\n",
    "            color=(0.75, 0.75, 0.75, 1.0),\n",
    "            width=2.0,\n",
    "            hide_label=True,\n",
    "            pointSize=0,\n",
    "        )\n",
    "vis.show()"
   ]
  },
  {
   "cell_type": "code",
   "execution_count": null,
   "id": "518be1e9",
   "metadata": {},
   "outputs": [],
   "source": [
    "# Tf parameters\n",
    "R = so3.from_rpy([np.pi/2, 0, -0.3])\n",
    "target_T_mug = (R, [0.065, 0.005, -0.005])\n",
    "\n",
    "# Robot parameters\n",
    "alpha = 1\n",
    "# robot_color = (1, 1, 1, alpha)\n",
    "robot_color = (0.5, 0.5, 0.5, alpha)\n",
    "\n",
    "\n",
    "def get_color(i, n):\n",
    "    return robot_color\n",
    "\n",
    "def update_sols(_end_pose):\n",
    "    print(f\"_end_pose = {_end_pose.tolist()}\")\n",
    "    if SOL_MODE == \"IKFLOW\":\n",
    "        sols = ik_solver.generate_ik_solutions(_end_pose, N_SOLUTIONS).cpu().numpy()\n",
    "    elif SOL_MODE == \"IK\":\n",
    "        sols = ik_solver.robot.inverse_kinematics(_end_pose, N_SOLUTIONS, debug=False)\n",
    "    else:\n",
    "        raise ValueError(\"Unknown mode\")\n",
    "\n",
    "    qs = ik_solver.robot._x_to_qs(sols)\n",
    "    for i in range(N_SOLUTIONS):\n",
    "        q = qs[i]\n",
    "        rcolor = get_color(i, N_SOLUTIONS)\n",
    "        if i == 0:\n",
    "            vis.setColor(vis.getItemName(robot), rcolor[0], rcolor[1], rcolor[2], a=rcolor[3])\n",
    "            robot.setConfig(q)\n",
    "            continue\n",
    "        vis.add(f\"robot_{i}\", q, color=rcolor)\n",
    "\n",
    "def update_scene():\n",
    "    target = vis.getItemConfig(\"target\")\n",
    "    world_T_target = (target[:-3], target[-3:])\n",
    "    print(\"world_T_target =\", world_T_target)\n",
    "    if SHOW_MUG:\n",
    "        world_T_mug = se3.mul(world_T_target, target_T_mug)\n",
    "        mug.setTransform(world_T_mug[0], world_T_mug[1])\n",
    "    world_T_iktarget = se3.mul(world_T_target, target_T_iktarget)\n",
    "    update_sols(np.array(world_T_iktarget[1] + so3.quaternion(world_T_iktarget[0])))\n",
    "    vis.update()\n",
    "\n",
    "def current_state():\n",
    "    target = vis.getItemConfig(\"target\")\n",
    "    world_T_target = (target[:-3], target[-3:])\n",
    "    print(\"world_T_target =\", world_T_target)\n",
    "    print(\"target_T_iktarget =\", target_T_iktarget)\n",
    "    vp = vis.getViewport()\n",
    "    print(\"vp = vis.getViewport()\")\n",
    "    print(\"vp.camera.rot =\", vp.camera.rot)\n",
    "    print(\"vp.camera.tgt =\", vp.camera.tgt)\n",
    "    print(\"vp.camera.dist =\", vp.camera.dist)\n",
    "    print(\"vp.clippingplanes = \", vp.clippingplanes)\n",
    "    print(\"vis.setViewport(vp)\")"
   ]
  },
  {
   "cell_type": "markdown",
   "id": "f7ffa496",
   "metadata": {},
   "source": [
    "### Set IK target"
   ]
  },
  {
   "cell_type": "code",
   "execution_count": null,
   "id": "9aecdbae",
   "metadata": {},
   "outputs": [],
   "source": [
    "# Update the target to a particular pose\n",
    "# -- \n",
    "pose = [ 0.50, 0, 0.65,  1, 0, 0, 0]\n",
    "world_T_target = ([1.0, 0, 0, 0, 1.0, 0, 0, 0, 1.0], [0.35, 0, 0.65])\n",
    "vis.add(\"target\", world_T_target, length=.25, width=1)\n",
    "\n",
    "vis.hideLabel(\"target\")\n",
    "vis.update()"
   ]
  },
  {
   "cell_type": "markdown",
   "id": "a5be1fae",
   "metadata": {},
   "source": [
    "### Update scene"
   ]
  },
  {
   "cell_type": "code",
   "execution_count": null,
   "id": "6aeba360",
   "metadata": {},
   "outputs": [],
   "source": [
    "# SOL_MODE = \"IK\"\n",
    "SOL_MODE = \"IKFLOW\"\n",
    "update_scene()"
   ]
  },
  {
   "cell_type": "markdown",
   "id": "c527c889",
   "metadata": {},
   "source": [
    "### Show / Hide IK target"
   ]
  },
  {
   "cell_type": "code",
   "execution_count": null,
   "id": "4029abec",
   "metadata": {},
   "outputs": [],
   "source": [
    "# SHOW\n",
    "vis.edit(\"target\", doedit=True)\n",
    "vis.setAttribute(\"target\", \"length\", .2)\n",
    "vis.hideLabel(\"target\")"
   ]
  },
  {
   "cell_type": "code",
   "execution_count": null,
   "id": "9ce30708",
   "metadata": {},
   "outputs": [],
   "source": [
    "# HIDE\n",
    "vis.edit(\"target\", doedit=False)\n",
    "vis.setAttribute(\"target\", \"length\", .2)\n",
    "vis.hideLabel(\"target\")"
   ]
  },
  {
   "cell_type": "markdown",
   "id": "53acc430",
   "metadata": {},
   "source": [
    "### Printout the current vis. state"
   ]
  },
  {
   "cell_type": "code",
   "execution_count": null,
   "id": "ab76a43b",
   "metadata": {},
   "outputs": [],
   "source": [
    "current_state()"
   ]
  }
 ],
 "metadata": {
  "kernelspec": {
   "display_name": "venv",
   "language": "python",
   "name": "python3"
  },
  "language_info": {
   "codemirror_mode": {
    "name": "ipython",
    "version": 3
   },
   "file_extension": ".py",
   "mimetype": "text/x-python",
   "name": "python",
   "nbconvert_exporter": "python",
   "pygments_lexer": "ipython3",
   "version": "3.8.10"
  },
  "vscode": {
   "interpreter": {
    "hash": "c106ee123d7af531b7acc4f77c56e24741db8737a45cbfd984346f16de511ef0"
   }
  }
 },
 "nbformat": 4,
 "nbformat_minor": 5
}
