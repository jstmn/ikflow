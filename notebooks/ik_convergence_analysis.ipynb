{
 "cells": [
  {
   "cell_type": "markdown",
   "id": "d619eab0",
   "metadata": {},
   "source": [
    "# Overview\n",
    "\n",
    "This notebook analyzes the use of levenberg-marquardt for IK refinement"
   ]
  },
  {
   "cell_type": "code",
   "execution_count": null,
   "id": "f124121e",
   "metadata": {},
   "outputs": [],
   "source": [
    "%load_ext autoreload\n",
    "%autoreload 2\n",
    "\n",
    "from IPython.display import display, HTML\n",
    "\n",
    "display(HTML(\"<style>.container { width:100% !important; }</style>\"))"
   ]
  },
  {
   "cell_type": "code",
   "execution_count": null,
   "id": "c10b367e",
   "metadata": {},
   "outputs": [],
   "source": [
    "from time import time\n",
    "\n",
    "import torch\n",
    "import numpy as np\n",
    "from jrl.utils import set_seed, evenly_spaced_colors\n",
    "import matplotlib.pyplot as plt\n",
    "\n",
    "from ikflow.model_loading import get_ik_solver\n",
    "\n",
    "torch.set_printoptions(linewidth=300, precision=6, sci_mode=False)"
   ]
  },
  {
   "cell_type": "code",
   "execution_count": null,
   "id": "f7298640",
   "metadata": {},
   "outputs": [],
   "source": [
    "MODEL_NAME = \"panda__full__lp191_5.25m\"\n",
    "POS_ERROR_THRESHOLD = 0.001\n",
    "ROT_ERROR_THRESHOLD = 0.01\n",
    "\n",
    "ikflow_solver, _ = get_ik_solver(MODEL_NAME)\n",
    "robot = ikflow_solver.robot"
   ]
  },
  {
   "cell_type": "code",
   "execution_count": null,
   "id": "626aeb35",
   "metadata": {},
   "outputs": [],
   "source": [
    "def debug_dist_to_jlims(robot, qs):\n",
    "    \"\"\"test with:\n",
    "    qs_random, _ = ikflow_solver.robot.sample_joint_angles_and_poses(5)\n",
    "    debug_dist_to_jlims(robot, torch.tensor(qs_random))\n",
    "    \"\"\"\n",
    "\n",
    "    mins = 100 * torch.ones(len(qs))\n",
    "    eps = 1e-5\n",
    "    for i, (l, u) in enumerate(robot.actuated_joints_limits):\n",
    "        assert torch.min(qs[:, i]) > l - eps\n",
    "        assert torch.max(qs[:, i]) < u + eps, f\"{torch.max(qs[:, i])} !< {u}\"\n",
    "        mins = torch.minimum(mins, torch.abs(qs[:, i] - l))\n",
    "        mins = torch.minimum(mins, torch.abs(qs[:, i] - u))\n",
    "    print(\"distances to joint limits:\", mins)\n",
    "    return mins"
   ]
  },
  {
   "cell_type": "code",
   "execution_count": null,
   "id": "d61c36b5",
   "metadata": {},
   "outputs": [],
   "source": [
    "def plot_runtime_curve(curves, labels):\n",
    "    fig, (axl, axr) = plt.subplots(1, 2, figsize=(18, 8))\n",
    "    fig.suptitle(\"Levenberg-Marquardt IK Convergence\")\n",
    "\n",
    "    axl.set_title(\"Runtime\")\n",
    "    axl.grid(alpha=0.2)\n",
    "    axl.set_xlabel(\"batch size\")\n",
    "    axl.set_ylabel(\"runtime (s)\")\n",
    "\n",
    "    axr.set_title(\"Success Pct\")\n",
    "    axr.grid(alpha=0.2)\n",
    "    axr.set_xlabel(\"batch size\")\n",
    "    axr.set_ylabel(\"success pct (%)\")\n",
    "\n",
    "    colors = evenly_spaced_colors(int(1.5 * len(curves)))\n",
    "\n",
    "    for (batch_sizes, runtimes, runtime_stds, success_pcts, success_pct_stds), label, color in zip(\n",
    "        curves, labels, colors\n",
    "    ):\n",
    "        axl.plot(batch_sizes, runtimes, label=label, color=color)\n",
    "        axl.fill_between(batch_sizes, runtimes - runtime_stds, runtimes + runtime_stds, alpha=0.15, color=color)\n",
    "        axl.scatter(batch_sizes, runtimes, s=15, color=color)\n",
    "\n",
    "        axr.plot(batch_sizes, success_pcts, label=label, color=color)\n",
    "        axr.fill_between(\n",
    "            batch_sizes, success_pcts - success_pct_stds, success_pcts + success_pct_stds, alpha=0.15, color=color\n",
    "        )\n",
    "        axr.scatter(batch_sizes, success_pcts, s=15, color=color)\n",
    "\n",
    "    # plt.savefig(f\"lma_errors_{i}.pdf\", bbox_inches=\"tight\")\n",
    "    # axl.legend()\n",
    "    axr.legend()\n",
    "    plt.show()"
   ]
  },
  {
   "cell_type": "code",
   "execution_count": null,
   "id": "b6569b16",
   "metadata": {},
   "outputs": [],
   "source": [
    "batch_sizes = [10, 100, 500, 1000, 2000]\n",
    "k_retry = 3\n",
    "\n",
    "all_repeat_counts = [(1, 2, 5), (1, 3, 10), (1, 4, 10), (1, 5, 10)]\n",
    "\n",
    "device = \"cuda:0\"\n",
    "\n",
    "curves = []\n",
    "labels = []\n",
    "\n",
    "set_seed()\n",
    "\n",
    "for repeat_counts in all_repeat_counts:\n",
    "    runtimes = []\n",
    "    success_pcts = []\n",
    "    runtime_stds = []\n",
    "    success_pct_stds = []\n",
    "\n",
    "    for batch_size in batch_sizes:\n",
    "        sub_runtimes = []\n",
    "        sub_success_pcts = []\n",
    "\n",
    "        for _ in range(k_retry):\n",
    "            _, target_poses = ikflow_solver.robot.sample_joint_angles_and_poses(\n",
    "                batch_size, only_non_self_colliding=True\n",
    "            )\n",
    "            target_poses = torch.tensor(target_poses, device=device, dtype=torch.float32)\n",
    "            t0 = time()\n",
    "            _, valid_solutions = ikflow_solver.generate_exact_ik_solutions(\n",
    "                target_poses,\n",
    "                pos_error_threshold=POS_ERROR_THRESHOLD,\n",
    "                rot_error_threshold=ROT_ERROR_THRESHOLD,\n",
    "                repeat_counts=repeat_counts,\n",
    "            )\n",
    "            sub_runtimes.append(time() - t0)\n",
    "            sub_success_pcts.append(100 * valid_solutions.sum().item() / batch_size)\n",
    "\n",
    "        runtimes.append(np.mean(sub_runtimes))\n",
    "        runtime_stds.append(np.std(sub_runtimes))\n",
    "\n",
    "        success_pcts.append(np.mean(sub_success_pcts))\n",
    "        success_pct_stds.append(np.std(sub_success_pcts))\n",
    "\n",
    "        print(f\"batch_size: {batch_size}, runtime: {runtimes[-1]:.3f}s\")\n",
    "\n",
    "    curves.append(\n",
    "        (\n",
    "            np.array(batch_sizes),\n",
    "            np.array(runtimes),\n",
    "            np.array(runtime_stds),\n",
    "            np.array(success_pcts),\n",
    "            np.array(success_pct_stds),\n",
    "        )\n",
    "    )\n",
    "    labels.append(f\"repeat_counts: {repeat_counts}\")"
   ]
  },
  {
   "cell_type": "code",
   "execution_count": null,
   "id": "835aa998",
   "metadata": {},
   "outputs": [],
   "source": [
    "plot_runtime_curve(curves, labels)"
   ]
  },
  {
   "cell_type": "code",
   "execution_count": null,
   "id": "ac3f346f",
   "metadata": {},
   "outputs": [],
   "source": [
    "x = torch.zeros((1000, 8), device=\"cuda:0\")\n",
    "t0 = time()\n",
    "x_cpu = x.cpu()\n",
    "print(f\"cpu time: {1000 * (time() - t0):.8f}ms\")"
   ]
  }
 ],
 "metadata": {
  "kernelspec": {
   "display_name": "uv run python 3 (ipykernel)",
   "language": "python",
   "name": "python3"
  },
  "language_info": {
   "codemirror_mode": {
    "name": "ipython",
    "version": 3
   },
   "file_extension": ".py",
   "mimetype": "text/x-python",
   "name": "python",
   "nbconvert_exporter": "python",
   "pygments_lexer": "ipython3",
   "version": "3.8.10"
  }
 },
 "nbformat": 4,
 "nbformat_minor": 5
}
